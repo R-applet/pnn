{
 "cells": [
  {
   "cell_type": "markdown",
   "metadata": {},
   "source": [
    "# Import Packages"
   ]
  },
  {
   "cell_type": "code",
   "execution_count": 1,
   "metadata": {},
   "outputs": [],
   "source": [
    "import numpy as np\n",
    "from sympy import *\n",
    "import pandas as pd"
   ]
  },
  {
   "cell_type": "markdown",
   "metadata": {},
   "source": [
    "# Define the inputs as symbols to extract equations. "
   ]
  },
  {
   "cell_type": "code",
   "execution_count": 51,
   "metadata": {},
   "outputs": [],
   "source": [
    "act_dict = {0: 'linear', 1: 'multiply', 2: 'sqrt', 3: '4rt'}\n",
    "N, M, Q, r0, w1, w2, w3, w4, b1 = symbols('N M Q r0 w1 w2 w3 w4 b1')\n",
    "#x = [0.02907, 27.2, 1089.154, 1.8]\n",
    "x = [N, M, Q, r0]"
   ]
  },
  {
   "cell_type": "code",
   "execution_count": 52,
   "metadata": {},
   "outputs": [],
   "source": [
    "# EXP DATA \n",
    "#w = [0., 0., 0., 0., 0., 0., 0., 0., 0., 0., 0., 0., 0., 1., 0., 0., 0., 0., 0., 1.] # p1\n",
    "#w =  [0., 0., 0., 0., 0., 0., 0., 1., 0., 0., 0., 0., 0., 0., 0., 0., 0., 4.359582, 0., 0.] # p0.1\n",
    "#w = [0., 0., 0., 0., 0., 0., 0., 3.7470453, 0., 0., 0., 0., 0., 0., 0., 0., 0., 1., 0., 0.] #p0.01\n",
    "#w = [0., 0., 0., 1., 0., 0., 0., 0., 0., 0., 0., 1., 0., 0., 0., 0., 2.4622831, 0., 0., 2.4696817] # p0.001\n",
    "#w = [0., 0., 0., 1., 0., 0., 0., 0., 0., 0., 0., 0., 0., 0., 0., 1., 2.4622831, 0., 0., 2.4696817] # p0.0001\n",
    "\n",
    "#w = [0., 0., 0., 0., 0., 0., 0., 1., 0., 0., 0., 0., 0., 0., 0., 0., 0., 3.9755638, 0., 0.] # p.1 rs1 *\n",
    "#w = [0., 0., 0., 0., 0., 0., 0., 1., 0., 0., 0., 0., 0., 0., 0., 0., 0., 3.3294876, 1., 0.] # p.1 rs1 **\n",
    "#w = [0., 0., 0., 0., 0., 0.13089617, 0., 6.5778904, 1., 0., 0., 0., 0., 0., 0., 0., 2.765214, 1., 1., 0.] # p.001 rs1 ***\n",
    "#w = [0., 1., 0., 5.8746176, 0., -0.04292781, 0., 5.784308, 1., 0., 0., 0., 0., 1., 0., 0., 2.262778, 1., 1., 0.] # p.001 rs1 ****\n",
    "\n",
    "#b = [0., 0., 0., 0., 1.] # p1\n",
    "#b = [0., 0., 0., 0., 0.] # p0.1\n",
    "#b = [0., 1., 0., 0., 0.] # p0.01\n",
    "#b = [0., 0., 0., 0., 0.] # p0.001\n",
    "#b = [0., 0., 0., 0., 0.] # p0.0001\n",
    "\n",
    "#b = [0., 0., 0., 0., 1.] # p.1 rs1 *\n",
    "#b = [0., 0., 1., 0., 1.]  # p.1 rs1 **\n",
    "#b = [1., 1., 0., 0., 1.] # p.001 rs1 ***\n",
    "#b = [1., 1., 0., 0., 1.] # p.001 rs1 ****\n",
    "\n",
    "#individual = [0, 0, 0, 2, 0, 0, 0, 0, 0, 0, 0, 0, 0, 0, 0, 0, 0, 0, 1, 0, 0, 0, 0, 0, 1, 0, 0, 0, 0, 1] # p1\n",
    "#individual = [0, 0, 0, 0, 0, 0, 0, 0, 0, 0, 0, 0, 1, 0, 0, 0, 0, 0, 0, 0, 0, 0, 2, 0, 0, 0, 0, 0, 0, 0] #p0.1\n",
    "#individual = [0, 0, 0, 0, 0, 0, 0, 0, 0, 0, 0, 0, 2, 0, 0, 0, 0, 0, 0, 0, 0, 0, 1, 0, 0, 0, 1, 0, 0, 0] #p0.01\n",
    "#individual = [0, 1, 0, 2, 0, 0, 0, 0, 1, 0, 0, 0, 0, 0, 0, 0, 1, 0, 0, 0, 0, 2, 0, 0, 2, 0, 0, 0, 0, 0] # p0.001\n",
    "#individual = [0, 0, 0, 2, 0, 0, 0, 0, 1, 0, 0, 0, 0, 0, 0, 0, 0, 0, 0, 0, 1, 2, 0, 0, 2, 0, 0, 0, 0, 0] # p0.0001\n",
    "\n",
    "#individual = [0, 0, 0, 0, 0, 0, 0, 0, 0, 0, 0, 0, 1, 0, 0, 0, 0, 0, 0, 0, 0, 0, 2, 0, 0, 0, 0, 0, 0, 1] # p.1 rs1 *\n",
    "#individual = [0, 0, 0, 0, 0, 0, 0, 0, 0, 0, 0, 0, 1, 0, 0, 0, 0, 0, 0, 0, 0, 0, 2, 1, 0, 0, 0, 1, 0, 1] # p.1 rs1 **\n",
    "#individual = [0, 0, 2, 0, 1, 0, 0, 0, 0, 0, 2, 0, 2, 1, 0, 0, 0, 0, 0, 0, 0, 2, 1, 1, 0, 1, 1, 0, 0, 1] # p.001 rs1 ***\n",
    "#individual = [2, 2, 2, 0, 1, 0, 1, 0, 2, 0, 2, 0, 2, 1, 0, 0, 0, 0, 1, 0, 0, 2, 1, 1, 0, 1, 1, 0, 0, 1] # p.001 rs1 ****\n",
    "\n",
    "#### KFOLDS 152 #####\n",
    "\n",
    "\n",
    "#w = [0, 1, 0, 1, 0, 0, 0, w1, 0, 0, 1, 0, 0, 0, 0, 0, w2, 1, 0, 1]  # p.005\n",
    "#w = [0, 0, 0, 1, 1, 0, 0, 1, 0, 1, 0, 0, w1, 0, 0, 1, w2, w3, 1, w4] # p.001\n",
    "\n",
    "#b = [0, 0, 0, 0, 1] # p.005\n",
    "#b = [1, 0, 1, 0, 1] # p.001\n",
    "\n",
    "#individual = [2, 0, 1, 3, 0, 0, 1, 0, 1, 0, 0, 0, 2, 0, 0, 1, 0, 0, 0, 0, 0, 2, 1, 0, 1, 0, 0, 0, 0, 1]  # p.005\n",
    "#individual = [0, 0, 3, 0, 1, 0, 0, 0, 1, 1, 0, 0, 1, 0, 1, 0, 0, 2, 0, 0, 1, 2, 2, 1, 2, 1, 0, 1, 0, 1]  # p.001\n",
    "\n",
    "\n",
    "### KFOLDS 190 ###\n",
    "\n",
    "#w = [0, 0, 0, 0, 0, 0, 0, 1, 0, 0, 0, 0, 0, 0, 0, 0, 0, w1, 0, 0] # p.1\n",
    "#w = [0, 0, 0, 0, 0, 0, 1, 0, 0, 0, 0, 1, 0, 0, 0, 0, 0, 1, w1, 0]  # p.01\n",
    "\n",
    "w = [0, 0, 0, 0, 1, 0, 1, 0, 0, 0, 0, w1, 1, 1, 1, 1, 0, 1, 1, 1]   # complx = 24\n",
    "#w = [0, 0, 0, 1, 0, 0, 1, 0, 0, 0, 1, 0, 1, 0, 0, 0, 1, w1, 1, 0]   # KJ??\n",
    "\n",
    "#b = [0, 1, 0, 0, 0] p.1\n",
    "#b = [1, 1, 0, 0, b1] #p.01\n",
    "\n",
    "b = [0, 0, b1, 0, 0] # complx = 24\n",
    "#b = [1, 0, b1, 0, 0] # KJ??\n",
    "\n",
    "#individual = [0, 0, 0, 0, 0, 0, 0, 0, 0, 0, 0, 0, 1, 0, 0, 0, 0, 0, 0, 0, 0, 0, 2, 0, 0, 0, 1, 0, 0, 0]  # p.1\n",
    "#individual = [0, 3, 2, 0, 0, 0, 0, 0, 0, 0, 0, 1, 0, 0, 0, 0, 1, 0, 0, 0, 0, 0, 1, 2, 0, 1, 1, 0, 0, 2] # p.01\n",
    "\n",
    "\n",
    "individual = [3, 3, 1, 0, 0, 0, 0, 0, 0, 1, 0, 1, 0, 0, 0, 0, 2, 1, 1, 1, 1, 0, 1, 1, 1, 0, 0, 2, 0, 0]  # complx = 24 \n",
    "#individual = [2, 3, 1, 3, 0, 0, 0, 0, 1, 0, 0, 1, 0, 0, 0, 1, 0, 1, 0, 0, 0, 1, 2, 1, 0, 1, 0, 2, 0, 0]  # KJ??\n"
   ]
  },
  {
   "cell_type": "markdown",
   "metadata": {},
   "source": [
    "# Record the weights, biases, and individual for each network. This is a brute force, copy past from the output files, method for saving this information in the notebook."
   ]
  },
  {
   "cell_type": "markdown",
   "metadata": {},
   "source": [
    "# Define the function used to extract the equation that is output from each node. "
   ]
  },
  {
   "cell_type": "code",
   "execution_count": 53,
   "metadata": {},
   "outputs": [],
   "source": [
    "def eqn_func(I,w,b,x):\n",
    "    if act_dict[I] == 'multiply':\n",
    "        a = (w[0]*x[0])*(w[1]*x[1])*(w[2]*x[2])*(w[3]*x[3]+b)\n",
    "    else:\n",
    "        a = w[0]*x[0]+w[1]*x[1]+w[2]*x[2]+w[3]*x[3]+b\n",
    "        if act_dict[I] == 'sqrt':\n",
    "            a = a**(1/2)\n",
    "        elif act_dict[I] == '4rt':\n",
    "            a = a**(1/4)\n",
    "        else:\n",
    "            a = a\n",
    "    return a"
   ]
  },
  {
   "cell_type": "markdown",
   "metadata": {},
   "source": [
    "# It is important to note that the indexes for the weights and biases need to match the order that the nodes are reported in the model.summary() of the final_energ_mats.ipynb. There are instances where the order is not simply a1 - a2 - a3 - a4. "
   ]
  },
  {
   "cell_type": "code",
   "execution_count": 54,
   "metadata": {},
   "outputs": [
    {
     "data": {
      "text/plain": [
       "0"
      ]
     },
     "execution_count": 54,
     "metadata": {},
     "output_type": "execute_result"
    }
   ],
   "source": [
    "a1 = eqn_func(individual[0], w[0:4], b[0], x)\n",
    "a1"
   ]
  },
  {
   "cell_type": "code",
   "execution_count": 55,
   "metadata": {},
   "outputs": [
    {
     "data": {
      "text/plain": [
       "(N + Q)**0.25"
      ]
     },
     "execution_count": 55,
     "metadata": {},
     "output_type": "execute_result"
    }
   ],
   "source": [
    "a2 = eqn_func(individual[1], w[4:8], b[1], x)\n",
    "a2"
   ]
  },
  {
   "cell_type": "code",
   "execution_count": 61,
   "metadata": {
    "scrolled": true
   },
   "outputs": [
    {
     "data": {
      "text/plain": [
       "M*N*Q*(b1 + r0)"
      ]
     },
     "execution_count": 61,
     "metadata": {},
     "output_type": "execute_result"
    }
   ],
   "source": [
    "a3 = eqn_func(individual[2], w[12:16], b[2], x)\n",
    "a3"
   ]
  },
  {
   "cell_type": "code",
   "execution_count": 62,
   "metadata": {},
   "outputs": [
    {
     "data": {
      "text/plain": [
       "r0*w1"
      ]
     },
     "execution_count": 62,
     "metadata": {},
     "output_type": "execute_result"
    }
   ],
   "source": [
    "a4 = eqn_func(individual[3], w[8:12], b[3], x)\n",
    "a4"
   ]
  },
  {
   "cell_type": "code",
   "execution_count": 64,
   "metadata": {},
   "outputs": [
    {
     "data": {
      "text/plain": [
       "M*N*Q*(b1 + r0) + r0*w1 + (N + Q)**0.25"
      ]
     },
     "execution_count": 64,
     "metadata": {},
     "output_type": "execute_result"
    }
   ],
   "source": [
    "a_list = [a1,a2,a3,a4] \n",
    "a5 = eqn_func(individual[4], w[16:20], b[4], a_list)\n",
    "#simplify(a5)\n",
    "#factor(a5)\n",
    "a5"
   ]
  }
 ],
 "metadata": {
  "kernelspec": {
   "display_name": "Python 3",
   "language": "python",
   "name": "python3"
  },
  "language_info": {
   "codemirror_mode": {
    "name": "ipython",
    "version": 3
   },
   "file_extension": ".py",
   "mimetype": "text/x-python",
   "name": "python",
   "nbconvert_exporter": "python",
   "pygments_lexer": "ipython3",
   "version": "3.7.7"
  }
 },
 "nbformat": 4,
 "nbformat_minor": 2
}
